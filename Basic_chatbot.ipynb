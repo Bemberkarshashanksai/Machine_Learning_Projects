{
  "nbformat": 4,
  "nbformat_minor": 0,
  "metadata": {
    "colab": {
      "name": "Basic chatbot.ipynb",
      "provenance": [],
      "collapsed_sections": [],
      "authorship_tag": "ABX9TyN/0J1gNW7kinVDIsRiMSSr",
      "include_colab_link": true
    },
    "kernelspec": {
      "display_name": "Python 3",
      "name": "python3"
    },
    "language_info": {
      "name": "python"
    }
  },
  "cells": [
    {
      "cell_type": "markdown",
      "metadata": {
        "id": "view-in-github",
        "colab_type": "text"
      },
      "source": [
        "<a href=\"https://colab.research.google.com/github/Bemberkarshashanksai/Machine_Learning_Projects/blob/main/Basic_chatbot.ipynb\" target=\"_parent\"><img src=\"https://colab.research.google.com/assets/colab-badge.svg\" alt=\"Open In Colab\"/></a>"
      ]
    },
    {
      "cell_type": "code",
      "metadata": {
        "colab": {
          "base_uri": "https://localhost:8080/"
        },
        "id": "5gs-IDPoFewj",
        "outputId": "78868f02-f028-4043-f77e-f8c368deeb91"
      },
      "source": [
        "pip install nltk"
      ],
      "execution_count": 1,
      "outputs": [
        {
          "output_type": "stream",
          "text": [
            "Requirement already satisfied: nltk in /usr/local/lib/python3.7/dist-packages (3.2.5)\n",
            "Requirement already satisfied: six in /usr/local/lib/python3.7/dist-packages (from nltk) (1.15.0)\n"
          ],
          "name": "stdout"
        }
      ]
    },
    {
      "cell_type": "markdown",
      "metadata": {
        "id": "T3Nje2i7X3Cx"
      },
      "source": [
        "two types of chatbot:\n",
        "1.rule-based\n",
        "2.self learning"
      ]
    },
    {
      "cell_type": "code",
      "metadata": {
        "id": "M6e6RdERFmRQ"
      },
      "source": [
        "import nltk"
      ],
      "execution_count": 2,
      "outputs": []
    },
    {
      "cell_type": "code",
      "metadata": {
        "id": "hCnNF4Ne52Cc"
      },
      "source": [
        "nltk.download()"
      ],
      "execution_count": null,
      "outputs": []
    },
    {
      "cell_type": "markdown",
      "metadata": {
        "id": "Qr79usLPGsbm"
      },
      "source": [
        "Tokenization is defined as the process of breaking the given text into smaller units called tokens words,numbers or punctuation marks can be tokens and called word segmentation"
      ]
    },
    {
      "cell_type": "code",
      "metadata": {
        "id": "1Vh7vE6AG5XI"
      },
      "source": [
        "from nltk.tokenize import sent_tokenize"
      ],
      "execution_count": 5,
      "outputs": []
    },
    {
      "cell_type": "code",
      "metadata": {
        "id": "EbPca30oHEh7"
      },
      "source": [
        "from nltk.tokenize import word_tokenize"
      ],
      "execution_count": 6,
      "outputs": []
    },
    {
      "cell_type": "code",
      "metadata": {
        "id": "uf69XgMOHMiS"
      },
      "source": [
        "text=\"NLP is Imp In AI\""
      ],
      "execution_count": 7,
      "outputs": []
    },
    {
      "cell_type": "code",
      "metadata": {
        "colab": {
          "base_uri": "https://localhost:8080/"
        },
        "id": "fd5qLYy5HlRd",
        "outputId": "06b024eb-1eec-485e-d8cd-8831a5c050b7"
      },
      "source": [
        "nltk.download('punkt')"
      ],
      "execution_count": 8,
      "outputs": [
        {
          "output_type": "stream",
          "text": [
            "[nltk_data] Downloading package punkt to /root/nltk_data...\n",
            "[nltk_data]   Unzipping tokenizers/punkt.zip.\n"
          ],
          "name": "stdout"
        },
        {
          "output_type": "execute_result",
          "data": {
            "text/plain": [
              "True"
            ]
          },
          "metadata": {
            "tags": []
          },
          "execution_count": 8
        }
      ]
    },
    {
      "cell_type": "code",
      "metadata": {
        "colab": {
          "base_uri": "https://localhost:8080/"
        },
        "id": "JOKADgWtHTGW",
        "outputId": "432ab7cf-d38c-42ef-b0e0-c8837bcbed8e"
      },
      "source": [
        "print(sent_tokenize(text))"
      ],
      "execution_count": 9,
      "outputs": [
        {
          "output_type": "stream",
          "text": [
            "['NLP is Imp In AI']\n"
          ],
          "name": "stdout"
        }
      ]
    },
    {
      "cell_type": "code",
      "metadata": {
        "colab": {
          "base_uri": "https://localhost:8080/"
        },
        "id": "BCKAMeIEHYBE",
        "outputId": "e220204c-3d19-4eae-cc82-ddf81ed64370"
      },
      "source": [
        "print(word_tokenize(text))"
      ],
      "execution_count": 10,
      "outputs": [
        {
          "output_type": "stream",
          "text": [
            "['NLP', 'is', 'Imp', 'In', 'AI']\n"
          ],
          "name": "stdout"
        }
      ]
    },
    {
      "cell_type": "markdown",
      "metadata": {
        "id": "A66K-UDvIIzX"
      },
      "source": [
        "lemmatization is another way to extract the base form of words\n"
      ]
    },
    {
      "cell_type": "code",
      "metadata": {
        "colab": {
          "base_uri": "https://localhost:8080/"
        },
        "id": "uCZvv8qyKUkS",
        "outputId": "8312e987-5ad3-4279-fdb4-032f07f3e637"
      },
      "source": [
        "nltk.download('wordnet')"
      ],
      "execution_count": 11,
      "outputs": [
        {
          "output_type": "stream",
          "text": [
            "[nltk_data] Downloading package wordnet to /root/nltk_data...\n",
            "[nltk_data]   Unzipping corpora/wordnet.zip.\n"
          ],
          "name": "stdout"
        },
        {
          "output_type": "execute_result",
          "data": {
            "text/plain": [
              "True"
            ]
          },
          "metadata": {
            "tags": []
          },
          "execution_count": 11
        }
      ]
    },
    {
      "cell_type": "code",
      "metadata": {
        "id": "Ls8ABRQ-ISxl"
      },
      "source": [
        "from nltk.stem import WordNetLemmatizer"
      ],
      "execution_count": 12,
      "outputs": []
    },
    {
      "cell_type": "code",
      "metadata": {
        "colab": {
          "base_uri": "https://localhost:8080/"
        },
        "id": "7wophcIDIci_",
        "outputId": "7c832562-9ec5-4b36-e596-f663cea90a49"
      },
      "source": [
        "from nltk.stem import WordNetLemmatizer\n",
        "lematizer=WordNetLemmatizer()\n",
        "print(\"rocks:\",lematizer.lemmatize(\"rocks\"))\n",
        "print(\"amazing:\",lematizer.lemmatize(\"amazing\"))\n",
        "print(\"better:\",lematizer.lemmatize(\"better\",pos=\"a\"))#a denotes adj in position\n"
      ],
      "execution_count": 13,
      "outputs": [
        {
          "output_type": "stream",
          "text": [
            "rocks: rock\n",
            "amazing: amazing\n",
            "better: good\n"
          ],
          "name": "stdout"
        }
      ]
    },
    {
      "cell_type": "markdown",
      "metadata": {
        "id": "E5KXmDU3LV-p"
      },
      "source": [
        "stemming is the process of producing morphological variants of a root/base word\n",
        " chocolates,chocolatey,choco to \"chocolate"
      ]
    },
    {
      "cell_type": "code",
      "metadata": {
        "colab": {
          "base_uri": "https://localhost:8080/"
        },
        "id": "0kU500xfPpXl",
        "outputId": "ff4e35bb-1cc8-4dee-f300-5ebccc144573"
      },
      "source": [
        "from nltk.stem import PorterStemmer\n",
        "from nltk.tokenize import word_tokenize\n",
        "ps=PorterStemmer()\n",
        "words=[\"program\",\"programs\",\"programer\",\"programing\",\"programers\"]\n",
        "for w in words:\n",
        "  print(w,\":\",ps.stem(w))\n",
        "\n",
        "demo=\"goods\"\n",
        "print(ps.stem(demo))"
      ],
      "execution_count": 14,
      "outputs": [
        {
          "output_type": "stream",
          "text": [
            "program : program\n",
            "programs : program\n",
            "programer : program\n",
            "programing : program\n",
            "programers : program\n",
            "good\n"
          ],
          "name": "stdout"
        }
      ]
    },
    {
      "cell_type": "code",
      "metadata": {
        "colab": {
          "base_uri": "https://localhost:8080/"
        },
        "id": "6JbhDSPnQVXa",
        "outputId": "85f8858a-40f0-4350-9385-73befcadc1c4"
      },
      "source": [
        "pip install chatterbot #preinstalled library"
      ],
      "execution_count": null,
      "outputs": [
        {
          "output_type": "stream",
          "text": [
            "Collecting chatterbot\n",
            "\u001b[?25l  Downloading https://files.pythonhosted.org/packages/7c/21/85c2b114bd9dfabdd46ba58fc4519acdaed45d8c70898d40079e37a45e67/ChatterBot-1.0.8-py2.py3-none-any.whl (63kB)\n",
            "\r\u001b[K     |█████▏                          | 10kB 11.8MB/s eta 0:00:01\r\u001b[K     |██████████▎                     | 20kB 14.9MB/s eta 0:00:01\r\u001b[K     |███████████████▌                | 30kB 12.4MB/s eta 0:00:01\r\u001b[K     |████████████████████▋           | 40kB 9.6MB/s eta 0:00:01\r\u001b[K     |█████████████████████████▊      | 51kB 4.4MB/s eta 0:00:01\r\u001b[K     |███████████████████████████████ | 61kB 4.6MB/s eta 0:00:01\r\u001b[K     |████████████████████████████████| 71kB 3.3MB/s \n",
            "\u001b[?25hRequirement already satisfied: python-dateutil<2.9,>=2.8 in /usr/local/lib/python3.7/dist-packages (from chatterbot) (2.8.1)\n",
            "Collecting mathparse<0.2,>=0.1\n",
            "  Downloading https://files.pythonhosted.org/packages/c3/e5/4910fb85950cb960fcf3f5aabe1c8e55f5c9201788a1c1302b570a7e1f84/mathparse-0.1.2-py3-none-any.whl\n",
            "Collecting sqlalchemy<1.4,>=1.3\n",
            "\u001b[?25l  Downloading https://files.pythonhosted.org/packages/31/44/a86070dda790ce94cd7d9fb9281cd614c7d30850ed774ace9a84d0d5d491/SQLAlchemy-1.3.24-cp37-cp37m-manylinux2010_x86_64.whl (1.3MB)\n",
            "\u001b[K     |████████████████████████████████| 1.3MB 8.8MB/s \n",
            "\u001b[?25hRequirement already satisfied: pytz in /usr/local/lib/python3.7/dist-packages (from chatterbot) (2018.9)\n",
            "Requirement already satisfied: six>=1.5 in /usr/local/lib/python3.7/dist-packages (from python-dateutil<2.9,>=2.8->chatterbot) (1.15.0)\n",
            "Installing collected packages: mathparse, sqlalchemy, chatterbot\n",
            "  Found existing installation: SQLAlchemy 1.4.20\n",
            "    Uninstalling SQLAlchemy-1.4.20:\n",
            "      Successfully uninstalled SQLAlchemy-1.4.20\n",
            "Successfully installed chatterbot-1.0.8 mathparse-0.1.2 sqlalchemy-1.3.24\n"
          ],
          "name": "stdout"
        }
      ]
    },
    {
      "cell_type": "code",
      "metadata": {
        "colab": {
          "base_uri": "https://localhost:8080/"
        },
        "id": "ibABcHFpRIcE",
        "outputId": "b75c8379-bd8f-43f4-95ce-52851c43c1da"
      },
      "source": [
        "pip install chatterbot_corpus #kind of data to train chatbot"
      ],
      "execution_count": null,
      "outputs": [
        {
          "output_type": "stream",
          "text": [
            "Collecting chatterbot_corpus\n",
            "\u001b[?25l  Downloading https://files.pythonhosted.org/packages/ed/19/f8b41daf36fe4b0f43e283a820362ffdb2c1128600ab4ee187e84262fa4d/chatterbot_corpus-1.2.0-py2.py3-none-any.whl (117kB)\n",
            "\r\u001b[K     |██▉                             | 10kB 15.0MB/s eta 0:00:01\r\u001b[K     |█████▋                          | 20kB 20.9MB/s eta 0:00:01\r\u001b[K     |████████▍                       | 30kB 11.6MB/s eta 0:00:01\r\u001b[K     |███████████▏                    | 40kB 8.8MB/s eta 0:00:01\r\u001b[K     |██████████████                  | 51kB 4.2MB/s eta 0:00:01\r\u001b[K     |████████████████▊               | 61kB 4.4MB/s eta 0:00:01\r\u001b[K     |███████████████████▋            | 71kB 4.8MB/s eta 0:00:01\r\u001b[K     |██████████████████████▍         | 81kB 4.8MB/s eta 0:00:01\r\u001b[K     |█████████████████████████▏      | 92kB 4.9MB/s eta 0:00:01\r\u001b[K     |████████████████████████████    | 102kB 5.0MB/s eta 0:00:01\r\u001b[K     |██████████████████████████████▊ | 112kB 5.0MB/s eta 0:00:01\r\u001b[K     |████████████████████████████████| 122kB 5.0MB/s \n",
            "\u001b[?25hRequirement already satisfied: PyYAML<4.0,>=3.12 in /usr/local/lib/python3.7/dist-packages (from chatterbot_corpus) (3.13)\n",
            "Installing collected packages: chatterbot-corpus\n",
            "Successfully installed chatterbot-corpus-1.2.0\n"
          ],
          "name": "stdout"
        }
      ]
    },
    {
      "cell_type": "code",
      "metadata": {
        "colab": {
          "base_uri": "https://localhost:8080/"
        },
        "id": "F8FQMKXvRWKZ",
        "outputId": "4d3c08ac-3992-4a5c-8e40-67cd8c0319eb"
      },
      "source": [
        "pip install --upgrade chatterbot"
      ],
      "execution_count": null,
      "outputs": [
        {
          "output_type": "stream",
          "text": [
            "Requirement already up-to-date: chatterbot in /usr/local/lib/python3.7/dist-packages (1.0.8)\n",
            "Requirement already satisfied, skipping upgrade: mathparse<0.2,>=0.1 in /usr/local/lib/python3.7/dist-packages (from chatterbot) (0.1.2)\n",
            "Requirement already satisfied, skipping upgrade: pytz in /usr/local/lib/python3.7/dist-packages (from chatterbot) (2018.9)\n",
            "Requirement already satisfied, skipping upgrade: python-dateutil<2.9,>=2.8 in /usr/local/lib/python3.7/dist-packages (from chatterbot) (2.8.1)\n",
            "Requirement already satisfied, skipping upgrade: sqlalchemy<1.4,>=1.3 in /usr/local/lib/python3.7/dist-packages (from chatterbot) (1.3.24)\n",
            "Requirement already satisfied, skipping upgrade: six>=1.5 in /usr/local/lib/python3.7/dist-packages (from python-dateutil<2.9,>=2.8->chatterbot) (1.15.0)\n"
          ],
          "name": "stdout"
        }
      ]
    },
    {
      "cell_type": "code",
      "metadata": {
        "id": "kY7CK85YRmod"
      },
      "source": [
        "from chatterbot import ChatBot"
      ],
      "execution_count": null,
      "outputs": []
    },
    {
      "cell_type": "code",
      "metadata": {
        "id": "Il4MFK5KRxVv"
      },
      "source": [
        "from chatterbot.trainers import ListTrainer"
      ],
      "execution_count": null,
      "outputs": []
    },
    {
      "cell_type": "code",
      "metadata": {
        "id": "rHEamgQSR3x5"
      },
      "source": [
        "your_bot=ChatBot(name=\"SaiBot\",read_only=True,logic_adapters=['chatterbot.logic.MathematicalEvaluation','chatterbot.logic.BestMatch'])"
      ],
      "execution_count": null,
      "outputs": []
    },
    {
      "cell_type": "code",
      "metadata": {
        "id": "W69qGO6_S0Z3"
      },
      "source": [
        "greetings=['hi','hello','how are you','I am fine','nice to talk to you']"
      ],
      "execution_count": null,
      "outputs": []
    },
    {
      "cell_type": "code",
      "metadata": {
        "id": "H2IV7JTFUdHf"
      },
      "source": [
        "formula1=['pythagorean theorm','a squad plus b squad equals c squad']"
      ],
      "execution_count": null,
      "outputs": []
    },
    {
      "cell_type": "code",
      "metadata": {
        "id": "PXjDZfD1Uycz"
      },
      "source": [
        "formula2=['law of cosines','c^2=a^2+b^2+2ab']"
      ],
      "execution_count": null,
      "outputs": []
    },
    {
      "cell_type": "code",
      "metadata": {
        "id": "BAF21viRVJq9"
      },
      "source": [
        "physics=['ohms law.......','current propotional to volage and inversly to resistance']"
      ],
      "execution_count": null,
      "outputs": []
    },
    {
      "cell_type": "code",
      "metadata": {
        "id": "D7KDoTroVZOZ"
      },
      "source": [
        "Newton1=['first law of motion','object wont change untill a force apllied on it']"
      ],
      "execution_count": null,
      "outputs": []
    },
    {
      "cell_type": "code",
      "metadata": {
        "id": "T6kxITJ2Vonv"
      },
      "source": [
        "train_yourbot=ListTrainer(your_bot)"
      ],
      "execution_count": null,
      "outputs": []
    },
    {
      "cell_type": "code",
      "metadata": {
        "colab": {
          "base_uri": "https://localhost:8080/"
        },
        "id": "IbGXu_V1V9f3",
        "outputId": "e3dd3b33-c558-4b16-d52c-a0f0da0e498c"
      },
      "source": [
        "for item in (greetings,formula1,formula2,physics,Newton1):\n",
        "  train_yourbot.train(item)"
      ],
      "execution_count": null,
      "outputs": [
        {
          "output_type": "stream",
          "text": [
            "List Trainer: [####################] 100%\n",
            "List Trainer: [####################] 100%\n",
            "List Trainer: [####################] 100%\n",
            "List Trainer: [####################] 100%\n",
            "List Trainer: [####################] 100%\n"
          ],
          "name": "stdout"
        }
      ]
    },
    {
      "cell_type": "code",
      "metadata": {
        "colab": {
          "base_uri": "https://localhost:8080/"
        },
        "id": "UcTEvNBWWOfT",
        "outputId": "85a45aa1-acc5-407f-ac15-5514e4f172c9"
      },
      "source": [
        "print(your_bot.get_response(\"hi\"))"
      ],
      "execution_count": null,
      "outputs": [
        {
          "output_type": "stream",
          "text": [
            "hello\n"
          ],
          "name": "stdout"
        }
      ]
    },
    {
      "cell_type": "code",
      "metadata": {
        "colab": {
          "base_uri": "https://localhost:8080/"
        },
        "id": "TbB357JJWYpE",
        "outputId": "1db9512b-a66a-42f0-ba68-81bf2f6e496c"
      },
      "source": [
        "print(your_bot.get_response(\"how are you\"))"
      ],
      "execution_count": null,
      "outputs": [
        {
          "output_type": "stream",
          "text": [
            "I am fine\n"
          ],
          "name": "stdout"
        }
      ]
    },
    {
      "cell_type": "code",
      "metadata": {
        "colab": {
          "base_uri": "https://localhost:8080/"
        },
        "id": "lUxbpm0cWhqF",
        "outputId": "89977b1c-d48b-4906-d64d-751646c5ad11"
      },
      "source": [
        "print(your_bot.get_response(\"please helpe me with ohms law\"))"
      ],
      "execution_count": null,
      "outputs": [
        {
          "output_type": "stream",
          "text": [
            "current propotional to volage and inversly to resistance\n"
          ],
          "name": "stdout"
        }
      ]
    },
    {
      "cell_type": "code",
      "metadata": {
        "colab": {
          "base_uri": "https://localhost:8080/"
        },
        "id": "BlX5E2AjWrig",
        "outputId": "057cffd8-0ef8-4543-b298-7a06160fe76a"
      },
      "source": [
        "print(your_bot.get_response(\"explain first law of motion\"))"
      ],
      "execution_count": null,
      "outputs": [
        {
          "output_type": "stream",
          "text": [
            "object wont change untill a force apllied on it\n"
          ],
          "name": "stdout"
        }
      ]
    }
  ]
}